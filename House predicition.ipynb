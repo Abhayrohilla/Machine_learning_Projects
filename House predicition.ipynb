{
 "cells": [
  {
   "cell_type": "markdown",
   "id": "4dd751fa-cf19-4276-aacd-079bd8f50590",
   "metadata": {},
   "source": [
    "# Important Libraries"
   ]
  },
  {
   "cell_type": "code",
   "execution_count": 1,
   "id": "1518601c-2398-4be8-b62a-59f181cb25bf",
   "metadata": {},
   "outputs": [],
   "source": [
    "import pandas as pd\n",
    "import numpy as np\n",
    "from sklearn.preprocessing import LabelEncoder, MinMaxScaler\n",
    "from sklearn.feature_selection import SelectKBest, chi2\n",
    "from sklearn.model_selection import train_test_split, GridSearchCV, cross_val_score\n",
    "from sklearn.linear_model import LinearRegression\n",
    "import matplotlib.pyplot as plt\n",
    "from sklearn.model_selection import learning_curve\n",
    "from sklearn.metrics import mean_absolute_error, mean_squared_error, mean_squared_log_error, median_absolute_error, r2_score"
   ]
  },
  {
   "cell_type": "markdown",
   "id": "8d3c1e3f-f59d-4157-bb57-d681379f120f",
   "metadata": {},
   "source": [
    "# Load the dataset"
   ]
  },
  {
   "cell_type": "code",
   "execution_count": 2,
   "id": "1180a20f-c084-4589-b95e-095b5b81a412",
   "metadata": {},
   "outputs": [],
   "source": [
    "data_file_path = \"D:\\\\Abhay\\\\Housing Price data set.csv\"\n",
    "df = pd.read_csv(data_file_path)\n",
    "df.drop(columns=['Unnamed: 0'], inplace=True)"
   ]
  },
  {
   "cell_type": "markdown",
   "id": "13a75853-462d-43a1-bfc6-7b29aa72ed00",
   "metadata": {},
   "source": [
    "# Identify and analyze 'lotsize' statistics"
   ]
  },
  {
   "cell_type": "code",
   "execution_count": 3,
   "id": "c9b2444b-e0cd-47b7-ad78-67b2cd1764a5",
   "metadata": {},
   "outputs": [
    {
     "name": "stdout",
     "output_type": "stream",
     "text": [
      "Minimum lotsize: 1650\n",
      "Maximum lotsize: 16200\n"
     ]
    }
   ],
   "source": [
    "lotsize_min = df['lotsize'].min()\n",
    "lotsize_max = df['lotsize'].max()\n",
    "print(f\"Minimum lotsize: {lotsize_min}\")\n",
    "print(f\"Maximum lotsize: {lotsize_max}\")"
   ]
  },
  {
   "cell_type": "markdown",
   "id": "865f3345-088a-4942-afa6-41f0b7d4a7d4",
   "metadata": {},
   "source": [
    "# Encode categorical columns using LabelEncoder"
   ]
  },
  {
   "cell_type": "code",
   "execution_count": 4,
   "id": "133b573f-f55c-4996-a88f-5128a5300b8a",
   "metadata": {},
   "outputs": [],
   "source": [
    "categorical_columns = df.select_dtypes(include=['object']).columns\n",
    "label_encoder = LabelEncoder()\n",
    "for col in categorical_columns:\n",
    "    df[col] = label_encoder.fit_transform(df[col])"
   ]
  },
  {
   "cell_type": "markdown",
   "id": "9ede3521-5cc1-4965-8b3b-21e1560f77da",
   "metadata": {},
   "source": [
    "# Scale 'lotsize' using MinMaxScaler"
   ]
  },
  {
   "cell_type": "code",
   "execution_count": 5,
   "id": "70c818a4-44d2-487a-9445-e84162efd88d",
   "metadata": {},
   "outputs": [],
   "source": [
    "scaler = MinMaxScaler()\n",
    "df['lotsize'] = scaler.fit_transform(df[['lotsize']])"
   ]
  },
  {
   "cell_type": "markdown",
   "id": "545f3c1d-6612-4b2c-a185-f5bfb537cd57",
   "metadata": {},
   "source": [
    "# Feature selection: Choose the top 10 features using SelectKBest and chi-squared"
   ]
  },
  {
   "cell_type": "code",
   "execution_count": 6,
   "id": "dbc32906-48ff-4d23-acd2-a3be1a5fe385",
   "metadata": {},
   "outputs": [
    {
     "name": "stdout",
     "output_type": "stream",
     "text": [
      "Top 10 features:\n",
      "['bedrooms', 'bathrms', 'stories', 'driveway', 'recroom', 'fullbase', 'gashw', 'airco', 'garagepl', 'prefarea']\n"
     ]
    }
   ],
   "source": [
    "X = df.drop(columns=['price'])\n",
    "Y = df['price']\n",
    "feature_selector = SelectKBest(score_func=chi2, k=10)\n",
    "feature_selector.fit(X, Y)\n",
    "selected_features = X.columns[feature_selector.get_support()]\n",
    "print(f\"Top 10 features:\\n{selected_features.tolist()}\")"
   ]
  },
  {
   "cell_type": "markdown",
   "id": "3505af56-5db4-4dbf-b501-1fad741077f3",
   "metadata": {},
   "source": [
    "# Perform train-test split"
   ]
  },
  {
   "cell_type": "code",
   "execution_count": 7,
   "id": "9fd88670-afce-4d28-9e6b-80471d5337b8",
   "metadata": {},
   "outputs": [],
   "source": [
    "X_train, X_test, y_train, y_test = train_test_split(X, Y, test_size=0.3, random_state=42)"
   ]
  },
  {
   "cell_type": "markdown",
   "id": "c6f677e8-0f68-4e17-90a1-26c672432a6c",
   "metadata": {},
   "source": [
    "# Hyperparameter tuning for the Linear Regression model"
   ]
  },
  {
   "cell_type": "code",
   "execution_count": 8,
   "id": "4cf7e2ba-2fbd-40b2-ba9f-fc18331d4bb8",
   "metadata": {},
   "outputs": [],
   "source": [
    "model = LinearRegression()\n",
    "param_grid = {\n",
    "    'fit_intercept': [True, False],\n",
    "    'positive': [True, False],\n",
    "}\n",
    "grid_search = GridSearchCV(model, param_grid, cv=5, scoring='neg_mean_squared_error')\n",
    "grid_search.fit(X_train, y_train)\n",
    "best_params = grid_search.best_params_\n",
    "model = LinearRegression(**best_params)"
   ]
  },
  {
   "cell_type": "markdown",
   "id": "d563e348-0acd-4db2-8131-69c176160815",
   "metadata": {},
   "source": [
    "# Train the model"
   ]
  },
  {
   "cell_type": "code",
   "execution_count": 9,
   "id": "d33c11f6-0e7b-4e7b-b3c3-b6fac4516bf4",
   "metadata": {},
   "outputs": [
    {
     "data": {
      "text/html": [
       "<style>#sk-container-id-1 {color: black;background-color: white;}#sk-container-id-1 pre{padding: 0;}#sk-container-id-1 div.sk-toggleable {background-color: white;}#sk-container-id-1 label.sk-toggleable__label {cursor: pointer;display: block;width: 100%;margin-bottom: 0;padding: 0.3em;box-sizing: border-box;text-align: center;}#sk-container-id-1 label.sk-toggleable__label-arrow:before {content: \"▸\";float: left;margin-right: 0.25em;color: #696969;}#sk-container-id-1 label.sk-toggleable__label-arrow:hover:before {color: black;}#sk-container-id-1 div.sk-estimator:hover label.sk-toggleable__label-arrow:before {color: black;}#sk-container-id-1 div.sk-toggleable__content {max-height: 0;max-width: 0;overflow: hidden;text-align: left;background-color: #f0f8ff;}#sk-container-id-1 div.sk-toggleable__content pre {margin: 0.2em;color: black;border-radius: 0.25em;background-color: #f0f8ff;}#sk-container-id-1 input.sk-toggleable__control:checked~div.sk-toggleable__content {max-height: 200px;max-width: 100%;overflow: auto;}#sk-container-id-1 input.sk-toggleable__control:checked~label.sk-toggleable__label-arrow:before {content: \"▾\";}#sk-container-id-1 div.sk-estimator input.sk-toggleable__control:checked~label.sk-toggleable__label {background-color: #d4ebff;}#sk-container-id-1 div.sk-label input.sk-toggleable__control:checked~label.sk-toggleable__label {background-color: #d4ebff;}#sk-container-id-1 input.sk-hidden--visually {border: 0;clip: rect(1px 1px 1px 1px);clip: rect(1px, 1px, 1px, 1px);height: 1px;margin: -1px;overflow: hidden;padding: 0;position: absolute;width: 1px;}#sk-container-id-1 div.sk-estimator {font-family: monospace;background-color: #f0f8ff;border: 1px dotted black;border-radius: 0.25em;box-sizing: border-box;margin-bottom: 0.5em;}#sk-container-id-1 div.sk-estimator:hover {background-color: #d4ebff;}#sk-container-id-1 div.sk-parallel-item::after {content: \"\";width: 100%;border-bottom: 1px solid gray;flex-grow: 1;}#sk-container-id-1 div.sk-label:hover label.sk-toggleable__label {background-color: #d4ebff;}#sk-container-id-1 div.sk-serial::before {content: \"\";position: absolute;border-left: 1px solid gray;box-sizing: border-box;top: 0;bottom: 0;left: 50%;z-index: 0;}#sk-container-id-1 div.sk-serial {display: flex;flex-direction: column;align-items: center;background-color: white;padding-right: 0.2em;padding-left: 0.2em;position: relative;}#sk-container-id-1 div.sk-item {position: relative;z-index: 1;}#sk-container-id-1 div.sk-parallel {display: flex;align-items: stretch;justify-content: center;background-color: white;position: relative;}#sk-container-id-1 div.sk-item::before, #sk-container-id-1 div.sk-parallel-item::before {content: \"\";position: absolute;border-left: 1px solid gray;box-sizing: border-box;top: 0;bottom: 0;left: 50%;z-index: -1;}#sk-container-id-1 div.sk-parallel-item {display: flex;flex-direction: column;z-index: 1;position: relative;background-color: white;}#sk-container-id-1 div.sk-parallel-item:first-child::after {align-self: flex-end;width: 50%;}#sk-container-id-1 div.sk-parallel-item:last-child::after {align-self: flex-start;width: 50%;}#sk-container-id-1 div.sk-parallel-item:only-child::after {width: 0;}#sk-container-id-1 div.sk-dashed-wrapped {border: 1px dashed gray;margin: 0 0.4em 0.5em 0.4em;box-sizing: border-box;padding-bottom: 0.4em;background-color: white;}#sk-container-id-1 div.sk-label label {font-family: monospace;font-weight: bold;display: inline-block;line-height: 1.2em;}#sk-container-id-1 div.sk-label-container {text-align: center;}#sk-container-id-1 div.sk-container {/* jupyter's `normalize.less` sets `[hidden] { display: none; }` but bootstrap.min.css set `[hidden] { display: none !important; }` so we also need the `!important` here to be able to override the default hidden behavior on the sphinx rendered scikit-learn.org. See: https://github.com/scikit-learn/scikit-learn/issues/21755 */display: inline-block !important;position: relative;}#sk-container-id-1 div.sk-text-repr-fallback {display: none;}</style><div id=\"sk-container-id-1\" class=\"sk-top-container\"><div class=\"sk-text-repr-fallback\"><pre>LinearRegression(positive=True)</pre><b>In a Jupyter environment, please rerun this cell to show the HTML representation or trust the notebook. <br />On GitHub, the HTML representation is unable to render, please try loading this page with nbviewer.org.</b></div><div class=\"sk-container\" hidden><div class=\"sk-item\"><div class=\"sk-estimator sk-toggleable\"><input class=\"sk-toggleable__control sk-hidden--visually\" id=\"sk-estimator-id-1\" type=\"checkbox\" checked><label for=\"sk-estimator-id-1\" class=\"sk-toggleable__label sk-toggleable__label-arrow\">LinearRegression</label><div class=\"sk-toggleable__content\"><pre>LinearRegression(positive=True)</pre></div></div></div></div></div>"
      ],
      "text/plain": [
       "LinearRegression(positive=True)"
      ]
     },
     "execution_count": 9,
     "metadata": {},
     "output_type": "execute_result"
    }
   ],
   "source": [
    "model.fit(X_train, y_train)"
   ]
  },
  {
   "cell_type": "markdown",
   "id": "a2ee90ea-5511-4403-a328-05850c8e670a",
   "metadata": {},
   "source": [
    "# Make predictions"
   ]
  },
  {
   "cell_type": "code",
   "execution_count": 10,
   "id": "eae46070-eff0-4241-941d-468aeb72edb2",
   "metadata": {},
   "outputs": [],
   "source": [
    "y_pred = model.predict(X_test)"
   ]
  },
  {
   "cell_type": "markdown",
   "id": "7c0a3cd2-b65f-49dd-8ff7-8771d1e929ac",
   "metadata": {},
   "source": [
    "# Cross-validation and R-squared scores"
   ]
  },
  {
   "cell_type": "code",
   "execution_count": 11,
   "id": "093edfec-6b6c-470a-9f42-ab1616cf91c5",
   "metadata": {},
   "outputs": [
    {
     "name": "stdout",
     "output_type": "stream",
     "text": [
      "Mean R-squared Score: 0.5082\n"
     ]
    }
   ],
   "source": [
    "scores = cross_val_score(model, X, Y, cv=5, scoring='r2')\n",
    "mean_r2_score = scores.mean()\n",
    "print(f\"Mean R-squared Score: {mean_r2_score:.4f}\")"
   ]
  },
  {
   "cell_type": "markdown",
   "id": "6e42c568-111c-4163-80d4-b2a9cfa1155c",
   "metadata": {},
   "source": [
    "# Calculate and print regression metrics"
   ]
  },
  {
   "cell_type": "code",
   "execution_count": 12,
   "id": "c1a8dce0-e6b0-4123-8020-47b7eb7b863a",
   "metadata": {},
   "outputs": [
    {
     "name": "stdout",
     "output_type": "stream",
     "text": [
      "Mean Absolute Error (MAE): 11507.10\n",
      "Mean Squared Error (MSE): 248591302.99\n",
      "Root Mean Squared Error (RMSE): 15766.78\n",
      "Mean Squared Log Error (MSLE): 0.0488\n",
      "Median Absolute Error: 9323.30\n",
      "R-squared (R²): 0.7081\n"
     ]
    }
   ],
   "source": [
    "mae = mean_absolute_error(y_test, y_pred)\n",
    "mse = mean_squared_error(y_test, y_pred)\n",
    "rmse = np.sqrt(mse)\n",
    "msle = mean_squared_log_error(y_test, y_pred)\n",
    "medae = median_absolute_error(y_test, y_pred)\n",
    "r2 = r2_score(y_test, y_pred)\n",
    "\n",
    "print(f\"Mean Absolute Error (MAE): {mae:.2f}\")\n",
    "print(f\"Mean Squared Error (MSE): {mse:.2f}\")\n",
    "print(f\"Root Mean Squared Error (RMSE): {rmse:.2f}\")\n",
    "print(f\"Mean Squared Log Error (MSLE): {msle:.4f}\")\n",
    "print(f\"Median Absolute Error: {medae:.2f}\")\n",
    "print(f\"R-squared (R²): {r2:.4f}\")"
   ]
  },
  {
   "cell_type": "markdown",
   "id": "bb39eeb6-f3d4-40af-9281-10519e687e2a",
   "metadata": {},
   "source": [
    "# Generate a learning curve plot for a machine learning estimator."
   ]
  },
  {
   "cell_type": "code",
   "execution_count": 13,
   "id": "a16a8f4c-6da4-4cb9-a3eb-32a1aa039199",
   "metadata": {
    "tags": []
   },
   "outputs": [
    {
     "data": {
      "image/png": "[encoded data removed]",
      "text/plain": [
       "<Figure size 640x480 with 1 Axes>"
      ]
     },
     "metadata": {},
     "output_type": "display_data"
    }
   ],
   "source": [
    "def plot_learning_curve(estimator, title, X, y, cv=None, train_sizes=np.linspace(0.1, 1.0, 5)):\n",
    "    \"\"\"\n",
    "    Generate a learning curve plot for a machine learning estimator.\n",
    "\n",
    "    Parameters:\n",
    "    - estimator: The machine learning model to evaluate.\n",
    "    - title: The title of the learning curve plot.\n",
    "    - X: The feature matrix.\n",
    "    - y: The target vector.\n",
    "    - cv: Cross-validation strategy. (default: None)\n",
    "    - train_sizes: Relative or absolute numbers of training examples. (default: np.linspace(0.1, 1.0, 5))\n",
    "\n",
    "    Returns:\n",
    "    - A learning curve plot.\n",
    "    \"\"\"\n",
    "    plt.figure()\n",
    "    plt.title(title)\n",
    "    plt.xlabel(\"Training Examples\")\n",
    "    plt.ylabel(\"Score\")\n",
    "    \n",
    "    if cv is not None:\n",
    "        train_sizes, train_scores, test_scores = learning_curve(estimator, X, y, cv=cv, train_sizes=train_sizes, n_jobs=-1)\n",
    "    else:\n",
    "        train_sizes, train_scores, test_scores = learning_curve(estimator, X, y, train_sizes=train_sizes, n_jobs=-1)\n",
    "    \n",
    "    train_scores_mean = np.mean(train_scores, axis=1)\n",
    "    train_scores_std = np.std(train_scores, axis=1)\n",
    "    test_scores_mean = np.mean(test_scores, axis=1)\n",
    "    test_scores_std = np.std(test_scores, axis=1)\n",
    "    \n",
    "    plt.grid()\n",
    "    \n",
    "    plt.fill_between(train_sizes, train_scores_mean - train_scores_std,\n",
    "                     train_scores_mean + train_scores_std, alpha=0.1, color=\"r\")\n",
    "    plt.fill_between(train_sizes, test_scores_mean - test_scores_std,\n",
    "                     test_scores_mean + test_scores_std, alpha=0.1, color=\"g\")\n",
    "    \n",
    "    plt.plot(train_sizes, train_scores_mean, 'o-', color=\"r\", label=\"Training score\")\n",
    "    plt.plot(train_sizes, test_scores_mean, 'o-', color=\"g\", label=\"Cross-validation score\")\n",
    "    \n",
    "    plt.legend(loc=\"best\")\n",
    "    \n",
    "    return plt\n",
    "# Plot the learning curve\n",
    "plot_learning_curve(model, \"Learning Curve (Linear Regression)\", X, Y, cv=5)\n",
    "plt.show()"
   ]
  },
  {
   "cell_type": "markdown",
   "id": "ae7fda9d-0e7b-47b8-8022-5625756060e8",
   "metadata": {},
   "source": [
    "# Save a trained machine learning model to a file using joblib."
   ]
  },
  {
   "cell_type": "code",
   "execution_count": 14,
   "id": "fdc76c62-2cd2-4694-a003-21427edf4025",
   "metadata": {
    "tags": []
   },
   "outputs": [],
   "source": [
    "import joblib\n",
    "\n",
    "def save_model(model, model_filename):\n",
    "    \"\"\"\n",
    "    Save a trained machine learning model to a file using joblib.\n",
    "\n",
    "    Parameters:\n",
    "    - model: The trained machine learning model to be saved.\n",
    "    - model_filename: The filename for saving the model.\n",
    "\n",
    "    Returns:\n",
    "    - None\n",
    "    \"\"\"\n",
    "    try:\n",
    "        joblib.dump(model, model_filename)\n",
    "        print(f\"Model successfully saved as {model_filename}\")\n",
    "    except Exception as e:\n",
    "        print(f\"Error: Unable to save the model as {model_filename}\")\n",
    "        print(e)\n",
    "\n",
    "# Specify the filename for saving the model\n",
    "model_filename = 'House_prediction_model.pkl'\n",
    "\n",
    "# Call the function to save the model\n",
    "save_model(model, model_filename)"
   ]
  }
 ],
 "metadata": {
  "kernelspec": {
   "display_name": "Python 3 (ipykernel)",
   "language": "python",
   "name": "python3"
  },
  "language_info": {
   "codemirror_mode": {
    "name": "ipython",
    "version": 3
   },
   "file_extension": ".py",
   "mimetype": "text/x-python",
   "name": "python",
   "nbconvert_exporter": "python",
   "pygments_lexer": "ipython3",
   "version": "3.10.7"
  }
 },
 "nbformat": 4,
 "nbformat_minor": 5
}
