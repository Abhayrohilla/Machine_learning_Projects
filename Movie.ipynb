{
 "cells": [
  {
   "cell_type": "code",
   "execution_count": 1,
   "id": "e8bc4d98-5bbc-4fd3-9be7-85361a1bf211",
   "metadata": {},
   "outputs": [],
   "source": [
    "import pandas as pd\n",
    "import numpy as np\n",
    "import matplotlib.pyplot as plt\n",
    "import seaborn as sns\n",
    "from imblearn.over_sampling import SMOTE\n",
    "from sklearn.model_selection import train_test_split, GridSearchCV, cross_val_score, learning_curve\n",
    "from sklearn.ensemble import RandomForestClassifier\n",
    "from sklearn.svm import SVC\n",
    "from sklearn.neighbors import KNeighborsClassifier\n",
    "from sklearn.linear_model import LogisticRegression\n",
    "from sklearn.tree import DecisionTreeClassifier\n",
    "from sklearn.naive_bayes import GaussianNB\n",
    "from sklearn.preprocessing import LabelEncoder, OrdinalEncoder, MinMaxScaler\n",
    "from sklearn.metrics import accuracy_score, precision_score, recall_score, f1_score, confusion_matrix"
   ]
  },
  {
   "cell_type": "code",
   "execution_count": 2,
   "id": "2cb0136f-39db-42e2-9997-10205de4802d",
   "metadata": {},
   "outputs": [],
   "source": [
    "# Load the dataset\n",
    "df1 = pd.read_csv(r\"C:\\Users\\abhay\\OneDrive\\Desktop\\movies.csv\")\n",
    "df2 = pd.read_csv(r\"C:\\Users\\abhay\\OneDrive\\Desktop\\ratings.csv\")\n",
    "df = pd.merge(df1, df2, on='movieId')"
   ]
  },
  {
   "cell_type": "code",
   "execution_count": 3,
   "id": "56eaa8bc-9dfb-4656-b2dd-29a81c981d14",
   "metadata": {},
   "outputs": [
    {
     "name": "stdout",
     "output_type": "stream",
     "text": [
      "First few rows of the dataset:\n"
     ]
    },
    {
     "data": {
      "text/html": [
       "<div>\n",
       "<style scoped>\n",
       "    .dataframe tbody tr th:only-of-type {\n",
       "        vertical-align: middle;\n",
       "    }\n",
       "\n",
       "    .dataframe tbody tr th {\n",
       "        vertical-align: top;\n",
       "    }\n",
       "\n",
       "    .dataframe thead th {\n",
       "        text-align: right;\n",
       "    }\n",
       "</style>\n",
       "<table border=\"1\" class=\"dataframe\">\n",
       "  <thead>\n",
       "    <tr style=\"text-align: right;\">\n",
       "      <th></th>\n",
       "      <th>movieId</th>\n",
       "      <th>title</th>\n",
       "      <th>genres</th>\n",
       "      <th>userId</th>\n",
       "      <th>rating</th>\n",
       "      <th>timestamp</th>\n",
       "    </tr>\n",
       "  </thead>\n",
       "  <tbody>\n",
       "    <tr>\n",
       "      <th>0</th>\n",
       "      <td>1</td>\n",
       "      <td>Toy Story (1995)</td>\n",
       "      <td>Adventure|Animation|Children|Comedy|Fantasy</td>\n",
       "      <td>2</td>\n",
       "      <td>3.5</td>\n",
       "      <td>1141415820</td>\n",
       "    </tr>\n",
       "    <tr>\n",
       "      <th>1</th>\n",
       "      <td>1</td>\n",
       "      <td>Toy Story (1995)</td>\n",
       "      <td>Adventure|Animation|Children|Comedy|Fantasy</td>\n",
       "      <td>3</td>\n",
       "      <td>4.0</td>\n",
       "      <td>1439472215</td>\n",
       "    </tr>\n",
       "    <tr>\n",
       "      <th>2</th>\n",
       "      <td>1</td>\n",
       "      <td>Toy Story (1995)</td>\n",
       "      <td>Adventure|Animation|Children|Comedy|Fantasy</td>\n",
       "      <td>4</td>\n",
       "      <td>3.0</td>\n",
       "      <td>1573944252</td>\n",
       "    </tr>\n",
       "    <tr>\n",
       "      <th>3</th>\n",
       "      <td>1</td>\n",
       "      <td>Toy Story (1995)</td>\n",
       "      <td>Adventure|Animation|Children|Comedy|Fantasy</td>\n",
       "      <td>5</td>\n",
       "      <td>4.0</td>\n",
       "      <td>858625949</td>\n",
       "    </tr>\n",
       "    <tr>\n",
       "      <th>4</th>\n",
       "      <td>1</td>\n",
       "      <td>Toy Story (1995)</td>\n",
       "      <td>Adventure|Animation|Children|Comedy|Fantasy</td>\n",
       "      <td>8</td>\n",
       "      <td>4.0</td>\n",
       "      <td>890492517</td>\n",
       "    </tr>\n",
       "  </tbody>\n",
       "</table>\n",
       "</div>"
      ],
      "text/plain": [
       "   movieId             title                                       genres  \\\n",
       "0        1  Toy Story (1995)  Adventure|Animation|Children|Comedy|Fantasy   \n",
       "1        1  Toy Story (1995)  Adventure|Animation|Children|Comedy|Fantasy   \n",
       "2        1  Toy Story (1995)  Adventure|Animation|Children|Comedy|Fantasy   \n",
       "3        1  Toy Story (1995)  Adventure|Animation|Children|Comedy|Fantasy   \n",
       "4        1  Toy Story (1995)  Adventure|Animation|Children|Comedy|Fantasy   \n",
       "\n",
       "   userId  rating   timestamp  \n",
       "0       2     3.5  1141415820  \n",
       "1       3     4.0  1439472215  \n",
       "2       4     3.0  1573944252  \n",
       "3       5     4.0   858625949  \n",
       "4       8     4.0   890492517  "
      ]
     },
     "execution_count": 3,
     "metadata": {},
     "output_type": "execute_result"
    }
   ],
   "source": [
    "# Print the first few rows of the dataset\n",
    "print(\"First few rows of the dataset:\")\n",
    "df.head()"
   ]
  },
  {
   "cell_type": "code",
   "execution_count": 4,
   "id": "1a809e71-fc80-4811-9919-666ae4c9707b",
   "metadata": {},
   "outputs": [],
   "source": [
    "# Drop 'customerID' column\n",
    "df.drop([\"movieId\", \"genres\", \"userId\", \"timestamp\"], axis=1, inplace=True)"
   ]
  },
  {
   "cell_type": "code",
   "execution_count": 5,
   "id": "dfa56166-ee16-4282-ab6d-e03197c63961",
   "metadata": {},
   "outputs": [
    {
     "data": {
      "text/plain": [
       "24710605"
      ]
     },
     "execution_count": 5,
     "metadata": {},
     "output_type": "execute_result"
    }
   ],
   "source": [
    "df.duplicated().sum()"
   ]
  },
  {
   "cell_type": "code",
   "execution_count": 6,
   "id": "6825cb69-a893-4dde-9b9d-107e88b603df",
   "metadata": {},
   "outputs": [
    {
     "data": {
      "text/html": [
       "<div>\n",
       "<style scoped>\n",
       "    .dataframe tbody tr th:only-of-type {\n",
       "        vertical-align: middle;\n",
       "    }\n",
       "\n",
       "    .dataframe tbody tr th {\n",
       "        vertical-align: top;\n",
       "    }\n",
       "\n",
       "    .dataframe thead th {\n",
       "        text-align: right;\n",
       "    }\n",
       "</style>\n",
       "<table border=\"1\" class=\"dataframe\">\n",
       "  <thead>\n",
       "    <tr style=\"text-align: right;\">\n",
       "      <th></th>\n",
       "      <th>title</th>\n",
       "      <th>rating</th>\n",
       "    </tr>\n",
       "  </thead>\n",
       "  <tbody>\n",
       "    <tr>\n",
       "      <th>0</th>\n",
       "      <td>Toy Story (1995)</td>\n",
       "      <td>3.5</td>\n",
       "    </tr>\n",
       "    <tr>\n",
       "      <th>1</th>\n",
       "      <td>Toy Story (1995)</td>\n",
       "      <td>4.0</td>\n",
       "    </tr>\n",
       "    <tr>\n",
       "      <th>2</th>\n",
       "      <td>Toy Story (1995)</td>\n",
       "      <td>3.0</td>\n",
       "    </tr>\n",
       "    <tr>\n",
       "      <th>10</th>\n",
       "      <td>Toy Story (1995)</td>\n",
       "      <td>5.0</td>\n",
       "    </tr>\n",
       "    <tr>\n",
       "      <th>12</th>\n",
       "      <td>Toy Story (1995)</td>\n",
       "      <td>2.0</td>\n",
       "    </tr>\n",
       "    <tr>\n",
       "      <th>...</th>\n",
       "      <td>...</td>\n",
       "      <td>...</td>\n",
       "    </tr>\n",
       "    <tr>\n",
       "      <th>25000090</th>\n",
       "      <td>We (2018)</td>\n",
       "      <td>1.5</td>\n",
       "    </tr>\n",
       "    <tr>\n",
       "      <th>25000091</th>\n",
       "      <td>Window of the Soul (2001)</td>\n",
       "      <td>3.0</td>\n",
       "    </tr>\n",
       "    <tr>\n",
       "      <th>25000092</th>\n",
       "      <td>Bad Poems (2018)</td>\n",
       "      <td>4.5</td>\n",
       "    </tr>\n",
       "    <tr>\n",
       "      <th>25000093</th>\n",
       "      <td>A Girl Thing (2001)</td>\n",
       "      <td>3.0</td>\n",
       "    </tr>\n",
       "    <tr>\n",
       "      <th>25000094</th>\n",
       "      <td>Women of Devil's Island (1962)</td>\n",
       "      <td>3.0</td>\n",
       "    </tr>\n",
       "  </tbody>\n",
       "</table>\n",
       "<p>289490 rows × 2 columns</p>\n",
       "</div>"
      ],
      "text/plain": [
       "                                   title  rating\n",
       "0                       Toy Story (1995)     3.5\n",
       "1                       Toy Story (1995)     4.0\n",
       "2                       Toy Story (1995)     3.0\n",
       "10                      Toy Story (1995)     5.0\n",
       "12                      Toy Story (1995)     2.0\n",
       "...                                  ...     ...\n",
       "25000090                       We (2018)     1.5\n",
       "25000091       Window of the Soul (2001)     3.0\n",
       "25000092                Bad Poems (2018)     4.5\n",
       "25000093             A Girl Thing (2001)     3.0\n",
       "25000094  Women of Devil's Island (1962)     3.0\n",
       "\n",
       "[289490 rows x 2 columns]"
      ]
     },
     "execution_count": 6,
     "metadata": {},
     "output_type": "execute_result"
    }
   ],
   "source": [
    "# Check for duplicates\n",
    "duplicates = df[df.duplicated(keep=False)]\n",
    "\n",
    "\n",
    "# Remove duplicates\n",
    "df_no_duplicates = df.drop_duplicates()\n",
    "\n",
    "# Display the DataFrame without duplicates\n",
    "df_no_duplicates"
   ]
  },
  {
   "cell_type": "code",
   "execution_count": 7,
   "id": "f8f7f32c-1293-41a2-ac3b-9a17921ce721",
   "metadata": {},
   "outputs": [
    {
     "data": {
      "text/plain": [
       "title     0\n",
       "rating    0\n",
       "dtype: int64"
      ]
     },
     "execution_count": 7,
     "metadata": {},
     "output_type": "execute_result"
    }
   ],
   "source": [
    "df_no_duplicates.isnull().sum()"
   ]
  },
  {
   "cell_type": "code",
   "execution_count": 34,
   "id": "162700b4-4c67-4bd9-be59-737e9eba34e6",
   "metadata": {},
   "outputs": [],
   "source": [
    "X = df_no_duplicates.drop(['rating'], axis=1)\n",
    "y = df_no_duplicates['rating']"
   ]
  },
  {
   "cell_type": "code",
   "execution_count": 35,
   "id": "f168af49-b5e7-4b9e-9c85-3a4ede41deca",
   "metadata": {},
   "outputs": [
    {
     "data": {
      "text/plain": [
       "(289490, 1)"
      ]
     },
     "execution_count": 35,
     "metadata": {},
     "output_type": "execute_result"
    }
   ],
   "source": [
    "X.shape"
   ]
  },
  {
   "cell_type": "code",
   "execution_count": 36,
   "id": "326fcddd-ec25-4933-bfcf-b34f136c84f6",
   "metadata": {},
   "outputs": [],
   "source": [
    "from sklearn.feature_extraction.text import TfidfVectorizer\n",
    "\n",
    "tfidf_vectorizer = TfidfVectorizer(stop_words='english')\n",
    "tfidf_matrix = tfidf_vectorizer.fit_transform(df_no_duplicates['title'])"
   ]
  },
  {
   "cell_type": "code",
   "execution_count": 37,
   "id": "b332dbef-e883-4272-93f8-8ba666fcb86f",
   "metadata": {},
   "outputs": [
    {
     "data": {
      "text/plain": [
       "(289490, 33641)"
      ]
     },
     "execution_count": 37,
     "metadata": {},
     "output_type": "execute_result"
    }
   ],
   "source": [
    "tfidf_matrix.shape"
   ]
  },
  {
   "cell_type": "code",
   "execution_count": 38,
   "id": "494c3b1a-cdcb-4587-934f-1943d2d397cd",
   "metadata": {},
   "outputs": [
    {
     "data": {
      "text/plain": [
       "rating\n",
       "3.0    40089\n",
       "3.5    37173\n",
       "4.0    33747\n",
       "2.5    32246\n",
       "2.0    28425\n",
       "5.0    27112\n",
       "4.5    24326\n",
       "0.5    24067\n",
       "1.0    21787\n",
       "1.5    20518\n",
       "Name: count, dtype: int64"
      ]
     },
     "execution_count": 38,
     "metadata": {},
     "output_type": "execute_result"
    }
   ],
   "source": [
    "y.value_counts()"
   ]
  },
  {
   "cell_type": "code",
   "execution_count": 17,
   "id": "0ad5ed6e-76fe-438b-831f-3aa6c2bc0a37",
   "metadata": {},
   "outputs": [
    {
     "data": {
      "image/png": "[encoded data removed]",
      "text/plain": [
       "<Figure size 640x480 with 1 Axes>"
      ]
     },
     "metadata": {},
     "output_type": "display_data"
    }
   ],
   "source": [
    "import matplotlib.pyplot as plt\n",
    "\n",
    "# Create a histogram\n",
    "plt.hist(y, color='royalblue', edgecolor='black')\n",
    "plt.xlabel('Values')\n",
    "plt.ylabel('Frequency')\n",
    "plt.title('Distribution of Numerical Data')\n",
    "\n",
    "# Display the histogram\n",
    "plt.show()"
   ]
  },
  {
   "cell_type": "code",
   "execution_count": 39,
   "id": "949f2160-fa74-467f-9985-7817ca0e881a",
   "metadata": {},
   "outputs": [],
   "source": [
    "from sklearn.model_selection import train_test_split\n",
    "# Split the resampled data into training and testing sets\n",
    "X_train, X_test, y_train, y_test = train_test_split(tfidf_matrix, y, test_size=0.3, random_state=42)"
   ]
  },
  {
   "cell_type": "code",
   "execution_count": null,
   "id": "7e99038f-3f36-43ad-8a0a-934125de98cc",
   "metadata": {},
   "outputs": [],
   "source": [
    "import numpy as np\n",
    "from sklearn.model_selection import GridSearchCV, cross_val_score\n",
    "from sklearn.ensemble import RandomForestRegressor  # Regression model\n",
    "from sklearn.svm import SVR  # Regression model\n",
    "from sklearn.neighbors import KNeighborsRegressor  # Regression model\n",
    "from sklearn.linear_model import LinearRegression  # Regression model\n",
    "from sklearn.tree import DecisionTreeRegressor  # Regression model\n",
    "from sklearn.metrics import mean_squared_error, r2_score\n",
    "\n",
    "# Define the regression models and their hyperparameter grids\n",
    "regressors = {\n",
    "    'Random Forest Regressor': {\n",
    "        'model': RandomForestRegressor(),\n",
    "        'param_grid': {\n",
    "            'n_estimators': [10, 50, 100],\n",
    "            'max_depth': [None, 10, 20],\n",
    "        }\n",
    "    },\n",
    "    'SVR': {\n",
    "        'model': SVR(),\n",
    "        'param_grid': {\n",
    "            'C': [0.1, 1, 10],\n",
    "            'kernel': ['linear', 'rbf'],\n",
    "        }\n",
    "    },\n",
    "    'K-Nearest Neighbors Regressor': {\n",
    "        'model': KNeighborsRegressor(),\n",
    "        'param_grid': {\n",
    "            'n_neighbors': [3, 5, 7],\n",
    "        }\n",
    "    },\n",
    "    'Linear Regression': {\n",
    "        'model': LinearRegression(),\n",
    "        'param_grid': {}\n",
    "    },\n",
    "    'Decision Tree Regressor': {\n",
    "        'model': DecisionTreeRegressor(),\n",
    "        'param_grid': {\n",
    "            'max_depth': [None, 10, 20],\n",
    "        }\n",
    "    }\n",
    "}\n",
    "\n",
    "# Model evaluation and metrics\n",
    "results = {}\n",
    "for name, config in regressors.items():\n",
    "    clf = config['model']\n",
    "    param_grid = config['param_grid']\n",
    "\n",
    "    grid_search = GridSearchCV(clf, param_grid, cv=5, scoring='neg_mean_squared_error')\n",
    "    grid_search.fit(X_train, y_train)\n",
    "\n",
    "    best_model = grid_search.best_estimator_\n",
    "\n",
    "    # Cross-validation scores (negative mean squared error)\n",
    "    cv_scores = cross_val_score(best_model, X_train, y_train, cv=5, scoring='neg_mean_squared_error')\n",
    "\n",
    "    # Evaluate on the test set\n",
    "    y_pred = best_model.predict(X_test)\n",
    "\n",
    "    mse = mean_squared_error(y_test, y_pred)\n",
    "    r2 = r2_score(y_test, y_pred)\n",
    "\n",
    "    results[name] = {\n",
    "        'best_model': best_model,\n",
    "        'best_params': grid_search.best_params_,\n",
    "        'mean_cv_neg_mean_squared_error': np.mean(cv_scores),\n",
    "        'mean_squared_error': mse,\n",
    "        'r2_score': r2,\n",
    "    }\n",
    "\n",
    "# Print the results\n",
    "for name, result in results.items():\n",
    "    print(f'{name}:')\n",
    "    print(f'Best Parameters: {result[\"best_params\"]}')\n",
    "    print(f'Mean Cross-Validation Negative Mean Squared Error: {result[\"mean_cv_neg_mean_squared_error\"]}')\n",
    "    print(f'Mean Squared Error on Test Set: {result[\"mean_squared_error\"]}')\n",
    "    print(f'R-squared (R2) Score on Test Set: {result[\"r2_score\"]}')\n",
    "    print()\n"
   ]
  },
  {
   "cell_type": "code",
   "execution_count": null,
   "id": "f2bd3482-9248-4d6c-b5a9-271f2a978db3",
   "metadata": {},
   "outputs": [],
   "source": []
  }
 ],
 "metadata": {
  "kernelspec": {
   "display_name": "Python 3 (ipykernel)",
   "language": "python",
   "name": "python3"
  },
  "language_info": {
   "codemirror_mode": {
    "name": "ipython",
    "version": 3
   },
   "file_extension": ".py",
   "mimetype": "text/x-python",
   "name": "python",
   "nbconvert_exporter": "python",
   "pygments_lexer": "ipython3",
   "version": "3.10.7"
  }
 },
 "nbformat": 4,
 "nbformat_minor": 5
}
